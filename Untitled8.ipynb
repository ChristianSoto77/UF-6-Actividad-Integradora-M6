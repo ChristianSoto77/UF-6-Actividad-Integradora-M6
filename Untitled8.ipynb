{
  "nbformat": 4,
  "nbformat_minor": 0,
  "metadata": {
    "colab": {
      "provenance": [],
      "authorship_tag": "ABX9TyMbIaKzPzZtYNA7qxXsQptB",
      "include_colab_link": true
    },
    "kernelspec": {
      "name": "python3",
      "display_name": "Python 3"
    },
    "language_info": {
      "name": "python"
    }
  },
  "cells": [
    {
      "cell_type": "markdown",
      "metadata": {
        "id": "view-in-github",
        "colab_type": "text"
      },
      "source": [
        "<a href=\"https://colab.research.google.com/github/ChristianSoto77/UF-6-Actividad-Integradora-M6/blob/main/Untitled8.ipynb\" target=\"_parent\"><img src=\"https://colab.research.google.com/assets/colab-badge.svg\" alt=\"Open In Colab\"/></a>"
      ]
    },
    {
      "cell_type": "code",
      "source": [
        "import streamlit as st\n",
        "#import numpy as np\n",
        "import pandas as pd\n",
        "#import plotly as px\n",
        "#import plotly.figure_factury as ff\n",
        "#from brokeh.plotting import figure\n",
        "#import matplotlib.pyplot as plt\n",
        "\n",
        "st.title('Police Incidents Reports from 2018 to 2020 in San Francisco')\n",
        "df = pd.read_csv('Police_Department_Incident_Reports__2018_to_Present.csv')\n",
        "st.dataframe(df)\n",
        "st.markdown('The data shown below belongs to incident reports in the city of San Francisco, from the year 2018 to 2020, with details from each case such as date, day of the week, police district, neighborhood in which it happened, type of incident in category and subcategory, exact location and resolution.')\n",
        "\n",
        "mapa = pd.DataFrame()\n",
        "mapa['Date']= df['Incident Date']\n",
        "mapa['Day']= df['Incident Day of Week']\n",
        "mapa['Police District']= df['Police District']\n",
        "mapa['Neighborhood']= df['Analysis Neighborhood']\n",
        "mapa['Incident Category']= df['Incident Subcategory']\n",
        "mapa['Resolution'] = df['Resolution']\n",
        "mapa['lat'] = df['Latitude']\n",
        "mapa['lon'] = df['Longitude']\n",
        "mapa = mapa.dropna()\n",
        "st.map(mapa.astype({'lat': 'float32', 'lon': 'float32'}))\n",
        "\n",
        "subset_data2=mapa\n",
        "police_district_input= st.sidebar.multiselect(\n",
        "    'Police District',\n",
        "    mapa.groupby('Police District').count().reset_index()['Police District'].tolist())\n",
        "if len(police_district_input)>0:\n",
        "    subset_data2=mapa[mapa['Police District'].isin(police_district_input)]\n",
        "    \n",
        "\n",
        "subset_data1=subset_data2\n",
        "neighborhood_input= st.sidebar.multiselect(\n",
        "    'Neighborhood',\n",
        "    mapa.groupby('Neighborhood').count().reset_index()['Neighborhood'].tolist())\n",
        "if len(neighborhood_input)>0:\n",
        "    subset_data1=subset_data2[subset_data2['Neighborhood'].isin(neighborhood_input)]\n",
        "\n",
        "\n",
        "subset_data=subset_data1\n",
        "incident_input= st.sidebar.multiselect(\n",
        "    'Incident Category',\n",
        "    mapa.groupby('Incident Category').count().reset_index()['Incident Category'].tolist())\n",
        "if len(incident_input)>0:\n",
        "    subset_data=subset_data1[subset_data1['Incident Category'].isin(incident_input)]\n",
        "    \n",
        "subset_data\n",
        "\n",
        "st.markdown('It is important to mention that any police district can answer to any incident, the neighborhood in which it happened is not related to the police district.')\n",
        "st.markdown('Crime locations in San Francisco')\n",
        "st.map(subset_data)\n",
        "st.markdown('Crimes ocurred per day of the week')\n",
        "st.bar_chart(subset_data['Day'].value_counts())\n",
        "st.markdown('Crimes ocurred per date')\n",
        "st.line_chart(subset_data['Date'].value_counts())\n",
        "st.markdown('Type of crimes committed')\n",
        "st.bar_chart(subset_data['Incident Category'].value_counts())\n",
        "\n",
        "agree = st.button('Click to see Incident Subcategories')\n",
        "if agree:\n",
        "    st.markdown('Subtype of crimes committed')\n",
        "    st.bar_chart(subset_data['Incident Subcategory'].value_counts())\n",
        "\n",
        "\n",
        "st.markdown('Resolution status')\n",
        "fig1, ax1 = plt.subplots()\n",
        "labels = subset_data['Resolution'].unique()\n",
        "ax1.pie(subset_data['Resolution'].value_counts(), labels=labels, autopct='%1.1f%%', startangle=20)\n",
        "st.pyplot(fig1)"
      ],
      "metadata": {
        "id": "x3DqIVX7fG4D"
      },
      "execution_count": null,
      "outputs": []
    }
  ]
}